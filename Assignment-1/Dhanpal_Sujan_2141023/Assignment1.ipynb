{
 "cells": [
  {
   "cell_type": "code",
   "execution_count": 82,
   "metadata": {},
   "outputs": [
    {
     "name": "stdout",
     "output_type": "stream",
     "text": [
      "'Hello World!'\n"
     ]
    }
   ],
   "source": [
    "# Question1: \n",
    "print(\"'Hello World!'\")\n",
    "\n",
    "\n"
   ]
  },
  {
   "cell_type": "code",
   "execution_count": null,
   "metadata": {},
   "outputs": [],
   "source": []
  },
  {
   "cell_type": "code",
   "execution_count": 1,
   "metadata": {
    "scrolled": true
   },
   "outputs": [
    {
     "name": "stdout",
     "output_type": "stream",
     "text": [
      "enter number a\n",
      "None5\n",
      "enter number b\n",
      "None5\n",
      "The number c is:  \n",
      "10\n",
      "The number d is: \n",
      "0\n",
      "The number e is: \n",
      "25\n",
      "The number f is: \n",
      "1.0\n",
      "The number g is: \n",
      "0\n"
     ]
    }
   ],
   "source": [
    "# Question2: \n",
    "\n",
    "a=int(input(print(\"enter number a\")))\n",
    "b=int(input(print(\"enter number b\")))\n",
    "c=a+b\n",
    "print(\"The number c is:  \" )\n",
    "print(c)\n",
    "d=a-b\n",
    "print(\"The number d is: \" )\n",
    "print(d)\n",
    "e=a*b\n",
    "print(\"The number e is: \" )\n",
    "print(e)\n",
    "f=a/b\n",
    "print(\"The number f is: \" )\n",
    "print(f)\n",
    "g=a%b\n",
    "print(\"The number g is: \")\n",
    "print(g)"
   ]
  },
  {
   "cell_type": "code",
   "execution_count": 24,
   "metadata": {},
   "outputs": [
    {
     "name": "stdout",
     "output_type": "stream",
     "text": [
      "enter any number\n",
      "None-6\n",
      "Enter a positive number for finding factorial\n"
     ]
    }
   ],
   "source": [
    "# Question3: \n",
    "\n",
    "num=int(input(print(\"enter any number\")))\n",
    "s=1\n",
    "if(num<0):\n",
    "    print(\"Enter a positive number for finding factorial\")\n",
    "elif(num==0):\n",
    "    print(\"The factorial of 0 is 1\")\n",
    "else:\n",
    "    for i in range(1,num+1):\n",
    "        s=s*i\n",
    "    print(\"The factorial of number is:\")\n",
    "    print(s)\n",
    "    "
   ]
  },
  {
   "cell_type": "code",
   "execution_count": 38,
   "metadata": {},
   "outputs": [
    {
     "name": "stdout",
     "output_type": "stream",
     "text": [
      "enter number a1\n",
      "enter number b6\n",
      "[1, 3, 5, 5]\n"
     ]
    }
   ],
   "source": [
    "# Question4: \n",
    "\n",
    "a=int(input(\"enter number a\"))\n",
    "b=int(input(\"enter number b\"))\n",
    "lst=[]\n",
    "def prime(num):\n",
    "    x=numpy.sqrt(num)\n",
    "    x=int(x)\n",
    "    for i in range(1,x+1):\n",
    "        if(num%(i+1)==0):\n",
    "            break\n",
    "        else:\n",
    "            lst.append(num)\n",
    "            \n",
    "\n",
    "for i in range(a,b+1):\n",
    "    prime(i)\n",
    "\n",
    "print(lst)"
   ]
  },
  {
   "cell_type": "code",
   "execution_count": 43,
   "metadata": {},
   "outputs": [
    {
     "name": "stdout",
     "output_type": "stream",
     "text": [
      "enter number a2\n",
      "enter number b3\n",
      "lcm of two numbers is: \n",
      "6\n"
     ]
    }
   ],
   "source": [
    "# Question5: \n",
    "\n",
    "a=int(input(\"enter number a\"))\n",
    "b=int(input(\"enter number b\"))\n",
    "def lcm(num1,num2):\n",
    "    big_val=1\n",
    "    if(num1>num2):\n",
    "        big_val=num1\n",
    "        \n",
    "    else:\n",
    "        bimg_val=num2\n",
    "    while(True):\n",
    "        if(big_val%num1==0 and big_val%num2==0):\n",
    "            lcm=big_val\n",
    "            break\n",
    "        big_val+=1\n",
    "    return lcm    \n",
    "lcm=lcm(a,b)        \n",
    "print(\"lcm of two numbers is: \")\n",
    "print(lcm)"
   ]
  },
  {
   "cell_type": "code",
   "execution_count": 47,
   "metadata": {},
   "outputs": [
    {
     "name": "stdout",
     "output_type": "stream",
     "text": [
      "[15 14 13 12 10  9  8  7  6  5  4  3  2  1]\n"
     ]
    }
   ],
   "source": [
    "# Question6: \n",
    "\n",
    "\n",
    "lst=[1,5,7,8,9,6,4,3,2,10,15,13,14,12]\n",
    "lst=numpy.array(lst)\n",
    "n=len(lst)\n",
    "for i in range(0,n-1):\n",
    "    for j in range(0,n-i-1):\n",
    "        if(lst[j]<lst[j+1]):\n",
    "            lst[j],lst[j+1]=lst[j+1],lst[j]\n",
    "print(lst)\n"
   ]
  },
  {
   "cell_type": "code",
   "execution_count": 121,
   "metadata": {},
   "outputs": [
    {
     "name": "stdout",
     "output_type": "stream",
     "text": [
      "[ 1  2  3  4  5  6  7  8  9 10 12 13 14 15]\n"
     ]
    }
   ],
   "source": [
    "# Question7: \n",
    "\n",
    "arr=numpy.array([1,5,7,8,9,6,4,3,2,10,15,13,14,12])\n",
    "n=len(arr)\n",
    "for i in range(0,n-1):\n",
    "    for j in range(0,n-i-1):\n",
    "        if(lst[j]>lst[j+1]):\n",
    "            lst[j],lst[j+1]=lst[j+1],lst[j]\n",
    "print(arr)\n"
   ]
  },
  {
   "cell_type": "code",
   "execution_count": 57,
   "metadata": {},
   "outputs": [
    {
     "name": "stdout",
     "output_type": "stream",
     "text": [
      "enter number m5\n",
      "enter number n2\n",
      "[[0 5]\n",
      " [5 4]\n",
      " [5 4]\n",
      " [1 3]\n",
      " [4 4]]\n"
     ]
    }
   ],
   "source": [
    "# Question8: \n",
    "\n",
    "import numpy\n",
    "m=int(input(\"enter number m\"))\n",
    "n=int(input(\"enter number n\"))\n",
    "matrix=numpy.empty([m,n], dtype=int)\n",
    "for i in range(m):\n",
    "    for j in range(n):\n",
    "        matrix[i][j]=numpy.random.randint(-2,6)\n",
    "print(matrix)"
   ]
  },
  {
   "cell_type": "code",
   "execution_count": 67,
   "metadata": {},
   "outputs": [
    {
     "name": "stdout",
     "output_type": "stream",
     "text": [
      "enter number m2\n",
      "enter number n2\n",
      "enter number p2\n",
      "[[3 4]\n",
      " [1 3]]\n",
      "[[4 2]\n",
      " [1 4]]\n",
      "[[16 22]\n",
      " [ 7 14]]\n",
      "[[16 22]\n",
      " [ 7 14]]\n"
     ]
    }
   ],
   "source": [
    "# Question9: \n",
    "\n",
    "\n",
    "m=int(input(\"enter number m\"))\n",
    "n=int(input(\"enter number n\"))\n",
    "p=int(input(\"enter number p\"))\n",
    "mat1=numpy.empty([m,n],dtype=int)\n",
    "mat2=numpy.empty([n,p],dtype=int)\n",
    "mat3=numpy.empty([m,p],dtype=int)\n",
    "for i in range(m):\n",
    "    for j in range(n):\n",
    "        mat1[i][j]=numpy.random.randint(0,5)\n",
    "for i in range(n):\n",
    "    for j in range(p):\n",
    "        mat2[i][j]=numpy.random.randint(0,5)\n",
    "print(mat1)\n",
    "print(mat2)\n",
    "res=numpy.dot(mat1,mat2)\n",
    "print(res)\n",
    "for i in range(m):\n",
    "    for j in range(p):\n",
    "        c=0\n",
    "        for k in range(n):\n",
    "            c=c+mat1[i][k]*mat2[k][j]\n",
    "        mat3[i][j]=c\n",
    "print(mat3)\n"
   ]
  },
  {
   "cell_type": "code",
   "execution_count": 78,
   "metadata": {},
   "outputs": [
    {
     "data": {
      "image/png": "[encoded data removed]",
      "text/plain": [
       "<Figure size 432x288 with 1 Axes>"
      ]
     },
     "metadata": {
      "needs_background": "light"
     },
     "output_type": "display_data"
    }
   ],
   "source": [
    "# Question13: \n",
    "\n",
    "\n",
    "import matplotlib.pyplot as plt\n",
    "import numpy\n",
    "x=numpy.linspace(-10,10,100)\n",
    "y=3*x+2\n",
    "plt.plot(x,y)\n",
    "plt.xlabel('x-axis')\n",
    "plt.ylabel('y-axis')\n",
    "plt.show()"
   ]
  },
  {
   "cell_type": "code",
   "execution_count": 88,
   "metadata": {
    "scrolled": true
   },
   "outputs": [
    {
     "ename": "OSError",
     "evalue": "[Errno 22] Invalid argument: '.\\\\..\\\\C:\\\\Machine learning lab\\x0cile.csv'",
     "output_type": "error",
     "traceback": [
      "\u001b[1;31m---------------------------------------------------------------------------\u001b[0m",
      "\u001b[1;31mOSError\u001b[0m                                   Traceback (most recent call last)",
      "\u001b[1;32m<ipython-input-88-fae81c062892>\u001b[0m in \u001b[0;36m<module>\u001b[1;34m\u001b[0m\n\u001b[0;32m      1\u001b[0m \u001b[0mmatrix\u001b[0m\u001b[1;33m=\u001b[0m\u001b[0mnumpy\u001b[0m\u001b[1;33m.\u001b[0m\u001b[0mrandom\u001b[0m\u001b[1;33m.\u001b[0m\u001b[0mrandint\u001b[0m\u001b[1;33m(\u001b[0m\u001b[1;36m10\u001b[0m\u001b[1;33m,\u001b[0m\u001b[0msize\u001b[0m\u001b[1;33m=\u001b[0m\u001b[1;33m(\u001b[0m\u001b[1;36m100\u001b[0m\u001b[1;33m,\u001b[0m\u001b[1;36m10\u001b[0m\u001b[1;33m)\u001b[0m\u001b[1;33m)\u001b[0m\u001b[1;33m\u001b[0m\u001b[1;33m\u001b[0m\u001b[0m\n\u001b[1;32m----> 2\u001b[1;33m \u001b[0mnumpy\u001b[0m\u001b[1;33m.\u001b[0m\u001b[0msavetxt\u001b[0m\u001b[1;33m(\u001b[0m\u001b[1;34m\".\\..\\C:\\Machine learning lab\\file.csv\"\u001b[0m\u001b[1;33m,\u001b[0m\u001b[0mmatrix\u001b[0m\u001b[1;33m,\u001b[0m\u001b[0mdelimiter\u001b[0m\u001b[1;33m=\u001b[0m\u001b[1;34m','\u001b[0m\u001b[1;33m)\u001b[0m\u001b[1;33m\u001b[0m\u001b[1;33m\u001b[0m\u001b[0m\n\u001b[0m",
      "\u001b[1;32m<__array_function__ internals>\u001b[0m in \u001b[0;36msavetxt\u001b[1;34m(*args, **kwargs)\u001b[0m\n",
      "\u001b[1;32m~\\anaconda3\\lib\\site-packages\\numpy\\lib\\npyio.py\u001b[0m in \u001b[0;36msavetxt\u001b[1;34m(fname, X, fmt, delimiter, newline, header, footer, comments, encoding)\u001b[0m\n\u001b[0;32m   1375\u001b[0m     \u001b[1;32mif\u001b[0m \u001b[0m_is_string_like\u001b[0m\u001b[1;33m(\u001b[0m\u001b[0mfname\u001b[0m\u001b[1;33m)\u001b[0m\u001b[1;33m:\u001b[0m\u001b[1;33m\u001b[0m\u001b[1;33m\u001b[0m\u001b[0m\n\u001b[0;32m   1376\u001b[0m         \u001b[1;31m# datasource doesn't support creating a new file ...\u001b[0m\u001b[1;33m\u001b[0m\u001b[1;33m\u001b[0m\u001b[1;33m\u001b[0m\u001b[0m\n\u001b[1;32m-> 1377\u001b[1;33m         \u001b[0mopen\u001b[0m\u001b[1;33m(\u001b[0m\u001b[0mfname\u001b[0m\u001b[1;33m,\u001b[0m \u001b[1;34m'wt'\u001b[0m\u001b[1;33m)\u001b[0m\u001b[1;33m.\u001b[0m\u001b[0mclose\u001b[0m\u001b[1;33m(\u001b[0m\u001b[1;33m)\u001b[0m\u001b[1;33m\u001b[0m\u001b[1;33m\u001b[0m\u001b[0m\n\u001b[0m\u001b[0;32m   1378\u001b[0m         \u001b[0mfh\u001b[0m \u001b[1;33m=\u001b[0m \u001b[0mnp\u001b[0m\u001b[1;33m.\u001b[0m\u001b[0mlib\u001b[0m\u001b[1;33m.\u001b[0m\u001b[0m_datasource\u001b[0m\u001b[1;33m.\u001b[0m\u001b[0mopen\u001b[0m\u001b[1;33m(\u001b[0m\u001b[0mfname\u001b[0m\u001b[1;33m,\u001b[0m \u001b[1;34m'wt'\u001b[0m\u001b[1;33m,\u001b[0m \u001b[0mencoding\u001b[0m\u001b[1;33m=\u001b[0m\u001b[0mencoding\u001b[0m\u001b[1;33m)\u001b[0m\u001b[1;33m\u001b[0m\u001b[1;33m\u001b[0m\u001b[0m\n\u001b[0;32m   1379\u001b[0m         \u001b[0mown_fh\u001b[0m \u001b[1;33m=\u001b[0m \u001b[1;32mTrue\u001b[0m\u001b[1;33m\u001b[0m\u001b[1;33m\u001b[0m\u001b[0m\n",
      "\u001b[1;31mOSError\u001b[0m: [Errno 22] Invalid argument: '.\\\\..\\\\C:\\\\Machine learning lab\\x0cile.csv'"
     ]
    }
   ],
   "source": [
    "# Question10: \n",
    "\n",
    "\n",
    "matrix=numpy.random.randint(10,size=(100,10))\n",
    "numpy.savetxt(\"C:\\Machine learning lab\\file.csv\",matrix,delimiter=',')\n"
   ]
  },
  {
   "cell_type": "code",
   "execution_count": 86,
   "metadata": {},
   "outputs": [
    {
     "data": {
      "text/plain": [
       "'C:\\\\Users\\\\Sujan'"
      ]
     },
     "execution_count": 86,
     "metadata": {},
     "output_type": "execute_result"
    }
   ],
   "source": [
    "\n"
   ]
  },
  {
   "cell_type": "code",
   "execution_count": null,
   "metadata": {},
   "outputs": [],
   "source": [
    "# Question12: \n",
    "\n",
    "\n",
    "import cmath\n",
    "class complexnumber:\n",
    "    \n",
    "     def __init__(self,c1,c2):\n",
    "         self.c1=c1\n",
    "         self.c2=c2\n",
    "    \n",
    "    def addition(self, c1, c2):\n",
    "        return (self.c1+self.c2)\n",
    "    \n",
    "    def subtraction(self,c1,c2):\n",
    "        return (self.c1-self.c2)\n",
    "    \n",
    "    def multiplication(self,c1,c2):\n",
    "        return (self.c1*self.c2)\n",
    "    \n",
    "    def division(self,c1,c2):\n",
    "        return (self.c1/self.c2)\n",
    "    \n",
    "    #def conjugate(self):\n",
    "    #    pass\n",
    "        \n",
    "    #def absolute(self,c1):\n",
    "     #   return (numpy.sqrt(c1.real**2+c1.imag**2)) \n",
    "    \n",
    "\n",
    "x=1\n",
    "y=2\n",
    "a=4\n",
    "b=5\n",
    "c1=complex(x,y)\n",
    "c2=complex(a,b)\n",
    "cn=complexnumber()\n",
    "print(cn.addition(c1,c2))\n",
    "print(cn.subtraction(c1,c2))\n",
    "print(cn.multiplication(c1,c2))\n",
    "#print(cn.division(c1,c2))\n",
    "#print(cn.absolute(c1))\n",
    "\n",
    "\n",
    "\n"
   ]
  },
  {
   "cell_type": "code",
   "execution_count": null,
   "metadata": {},
   "outputs": [],
   "source": [
    "\n"
   ]
  },
  {
   "cell_type": "code",
   "execution_count": 120,
   "metadata": {},
   "outputs": [
    {
     "data": {
      "text/plain": [
       "Text(0, 0.5, 'y-axis')"
      ]
     },
     "execution_count": 120,
     "metadata": {},
     "output_type": "execute_result"
    },
    {
     "data": {
      "image/png": "[encoded data removed]",
      "text/plain": [
       "<Figure size 432x288 with 1 Axes>"
      ]
     },
     "metadata": {
      "needs_background": "light"
     },
     "output_type": "display_data"
    }
   ],
   "source": [
    "# Question14: \n",
    "\n",
    "\n",
    "import numpy\n",
    "import matplotlib.pyplot as plt\n",
    "import random\n",
    "a=5\n",
    "b=2.5\n",
    "x_pts=[]\n",
    "y_pts=[]\n",
    "theta=numpy.linspace(0,2*numpy.pi,100)\n",
    "xelip=[]\n",
    "yelip=[]\n",
    "for i in theta:\n",
    "  xelip.append(5*numpy.cos(i)+5)\n",
    "  yelip.append(2.5*numpy.sin(i)-5)\n",
    "# print(xelip)\n",
    "# print(yelip)\n",
    "for i in range(0,100):\n",
    "  x=random.uniform(0,10)\n",
    "  y=random.uniform(-b*numpy.sqrt(1-(x-5)**2/a**2)-5 , b*numpy.sqrt(1-(x-5)**2/a**2)-5)\n",
    "  x_pts.append(x)\n",
    "  y_pts.append(y)\n",
    "  \n",
    "# print(x_pts)\n",
    "# print(y_pts)\n",
    "\n",
    "plt.plot(x_pts,y_pts,'o')\n",
    "plt.tick_params(direction='in',top=True,right=True,labeltop=True, labelbottom=False)\n",
    "plt.plot(xelip,yelip,color='red')\n",
    "plt.xlabel('x-axis')\n",
    "plt.ylabel('y-axis')"
   ]
  },
  {
   "cell_type": "code",
   "execution_count": null,
   "metadata": {},
   "outputs": [],
   "source": []
  }
 ],
 "metadata": {
  "kernelspec": {
   "display_name": "Python 3",
   "language": "python",
   "name": "python3"
  },
  "language_info": {
   "codemirror_mode": {
    "name": "ipython",
    "version": 3
   },
   "file_extension": ".py",
   "mimetype": "text/x-python",
   "name": "python",
   "nbconvert_exporter": "python",
   "pygments_lexer": "ipython3",
   "version": "3.8.3"
  }
 },
 "nbformat": 4,
 "nbformat_minor": 4
}
