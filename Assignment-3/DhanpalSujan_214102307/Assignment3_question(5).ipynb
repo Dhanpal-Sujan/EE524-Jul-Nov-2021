{
 "cells": [
  {
   "cell_type": "code",
   "execution_count": 90,
   "metadata": {},
   "outputs": [],
   "source": [
    "import numpy\n",
    "import matplotlib.pyplot as plt\n",
    "import pandas\n",
    "from numpy import random\n",
    "import math"
   ]
  },
  {
   "cell_type": "code",
   "execution_count": 91,
   "metadata": {},
   "outputs": [],
   "source": [
    "data=pandas.read_csv(\"C:\\Machine_learning_lab\\\\canada_per_capita_income.csv\")"
   ]
  },
  {
   "cell_type": "code",
   "execution_count": 92,
   "metadata": {},
   "outputs": [],
   "source": [
    "# len(data['Year'])\n",
    "# data['Year']\n",
    "# data['per capita income (US$)']"
   ]
  },
  {
   "cell_type": "code",
   "execution_count": 75,
   "metadata": {},
   "outputs": [],
   "source": [
    "Year=[]\n",
    "for i in range(len(data['Year'])):\n",
    "    Year.append(data['Year'][i])\n",
    "\n",
    "per_capita_income=[]\n",
    "for i in range(len(data['per capita income (US$)'])):\n",
    "    per_capita_income.append(data['per capita income (US$)'][i])\n",
    "    \n"
   ]
  },
  {
   "cell_type": "code",
   "execution_count": 93,
   "metadata": {},
   "outputs": [],
   "source": [
    "x1=[]\n",
    "\n",
    "for i in Year:\n",
    "    x1.append([i,1])\n",
    "    \n",
    "x1=numpy.array(x1)"
   ]
  },
  {
   "cell_type": "code",
   "execution_count": 94,
   "metadata": {},
   "outputs": [],
   "source": [
    "per_capita_income=numpy.array(per_capita_income)\n"
   ]
  },
  {
   "cell_type": "code",
   "execution_count": 95,
   "metadata": {},
   "outputs": [],
   "source": [
    "A_plus=numpy.linalg.pinv(x1) \n",
    "# print(A_plus)\n"
   ]
  },
  {
   "cell_type": "code",
   "execution_count": 96,
   "metadata": {},
   "outputs": [
    {
     "name": "stdout",
     "output_type": "stream",
     "text": [
      "[ 8.28465075e+02 -1.63221076e+06]\n"
     ]
    }
   ],
   "source": [
    "coefs = A_plus.dot(per_capita_income)\n",
    "print(coefs)"
   ]
  },
  {
   "cell_type": "code",
   "execution_count": 104,
   "metadata": {},
   "outputs": [],
   "source": [
    "#numpy.polyfit(x1[:,0],per_capita_income,1)"
   ]
  },
  {
   "cell_type": "code",
   "execution_count": null,
   "metadata": {},
   "outputs": [],
   "source": []
  },
  {
   "cell_type": "code",
   "execution_count": null,
   "metadata": {},
   "outputs": [],
   "source": []
  },
  {
   "cell_type": "code",
   "execution_count": 98,
   "metadata": {},
   "outputs": [],
   "source": [
    "#per_capita_income"
   ]
  },
  {
   "cell_type": "code",
   "execution_count": 100,
   "metadata": {},
   "outputs": [
    {
     "data": {
      "text/plain": [
       "Text(0, 0.5, 'per capita income')"
      ]
     },
     "execution_count": 100,
     "metadata": {},
     "output_type": "execute_result"
    },
    {
     "data": {
      "image/png": "[encoded data removed]",
      "text/plain": [
       "<Figure size 432x288 with 1 Axes>"
      ]
     },
     "metadata": {
      "needs_background": "light"
     },
     "output_type": "display_data"
    }
   ],
   "source": [
    "plt.plot(Year,per_capita_income,'o-')\n",
    "plt.plot(Year,numpy.dot(x1,coefs),'ko-')\n",
    "plt.xlabel('year')\n",
    "plt.ylabel('per capita income')"
   ]
  },
  {
   "cell_type": "code",
   "execution_count": 103,
   "metadata": {},
   "outputs": [
    {
     "name": "stdout",
     "output_type": "stream",
     "text": [
      "The per capita income in year 2020 is: 41288.69409441785\n",
      "The per capita income in year 2021 is: 42117.15916964039\n",
      "The per capita income in year 2025 is: 45431.01947053126\n"
     ]
    }
   ],
   "source": [
    "Per_capita_income_2020=coefs[0]*2020+coefs[1]\n",
    "Per_capita_income_2021=coefs[0]*2021+coefs[1]\n",
    "Per_capita_income_2025=coefs[0]*2025+coefs[1]\n",
    "\n",
    "\n",
    "print(\"The per capita income in year 2020 is:\",Per_capita_income_2020)\n",
    "print(\"The per capita income in year 2021 is:\",Per_capita_income_2021)\n",
    "print(\"The per capita income in year 2025 is:\",Per_capita_income_2025)"
   ]
  },
  {
   "cell_type": "code",
   "execution_count": null,
   "metadata": {},
   "outputs": [],
   "source": []
  }
 ],
 "metadata": {
  "kernelspec": {
   "display_name": "Python 3",
   "language": "python",
   "name": "python3"
  },
  "language_info": {
   "codemirror_mode": {
    "name": "ipython",
    "version": 3
   },
   "file_extension": ".py",
   "mimetype": "text/x-python",
   "name": "python",
   "nbconvert_exporter": "python",
   "pygments_lexer": "ipython3",
   "version": "3.8.3"
  }
 },
 "nbformat": 4,
 "nbformat_minor": 4
}
