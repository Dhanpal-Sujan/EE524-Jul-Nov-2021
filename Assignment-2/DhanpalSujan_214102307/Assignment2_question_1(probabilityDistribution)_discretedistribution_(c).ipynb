{
 "cells": [
  {
   "cell_type": "code",
   "execution_count": 2,
   "metadata": {},
   "outputs": [],
   "source": [
    "import numpy\n",
    "import matplotlib.pyplot as plt\n",
    "from numpy import random"
   ]
  },
  {
   "cell_type": "code",
   "execution_count": 7,
   "metadata": {
    "scrolled": true
   },
   "outputs": [
    {
     "name": "stdout",
     "output_type": "stream",
     "text": [
      "The variance of random variable X is: 0.12345679012345556\n",
      "The mean of random variable X is: 1.3580246913580245\n",
      "[9.e-01 9.e-02 9.e-03 9.e-04 9.e-05 9.e-06 9.e-07 9.e-08 9.e-09 9.e-10\n",
      " 9.e-11 9.e-12 9.e-13 9.e-14 9.e-15 9.e-16 9.e-17 9.e-18 9.e-19 9.e-20\n",
      " 9.e-21 9.e-22 9.e-23 9.e-24 9.e-25 9.e-26 9.e-27 9.e-28 9.e-29 9.e-30\n",
      " 9.e-31 9.e-32 9.e-33 9.e-34 9.e-35 9.e-36 9.e-37 9.e-38 9.e-39 9.e-40\n",
      " 9.e-41 9.e-42 9.e-43 9.e-44 9.e-45 9.e-46 9.e-47 9.e-48 9.e-49 9.e-50\n",
      " 9.e-51 9.e-52 9.e-53 9.e-54 9.e-55 9.e-56 9.e-57 9.e-58 9.e-59 9.e-60\n",
      " 9.e-61 9.e-62 9.e-63 9.e-64 9.e-65 9.e-66 9.e-67 9.e-68 9.e-69 9.e-70\n",
      " 9.e-71 9.e-72 9.e-73 9.e-74 9.e-75 9.e-76 9.e-77 9.e-78 9.e-79 9.e-80\n",
      " 9.e-81 9.e-82 9.e-83 9.e-84 9.e-85 9.e-86 9.e-87 9.e-88 9.e-89 9.e-90\n",
      " 9.e-91 9.e-92 9.e-93 9.e-94 9.e-95 9.e-96 9.e-97 9.e-98 9.e-99]\n"
     ]
    },
    {
     "data": {
      "text/plain": [
       "Text(0, 0.5, 'corresponding values of PMF')"
      ]
     },
     "execution_count": 7,
     "metadata": {},
     "output_type": "execute_result"
    },
    {
     "data": {
      "image/png": "[encoded data removed]",
      "text/plain": [
       "<Figure size 432x288 with 1 Axes>"
      ]
     },
     "metadata": {
      "needs_background": "light"
     },
     "output_type": "display_data"
    }
   ],
   "source": [
    "p=0.9 # probability of getting 1 i.e. is success\n",
    "x=numpy.arange(1,100,1) # event of random variable\n",
    "y=[]\n",
    "s=0\n",
    "s1=0\n",
    "\n",
    "#The distribution it follows is exponential distribution \n",
    "\n",
    "for i in x:\n",
    "    fun=p*(1-p)**(i-1)\n",
    "    y.append(fun)\n",
    "\n",
    "for i in x:\n",
    "    s=s+i*p*(1-p)**(i-1)\n",
    "\n",
    "for i in x:\n",
    "    s1=s1+i*i*p*(1-p)**(i-1)\n",
    "\n",
    "var=s1-s*s\n",
    "print(\"The variance of random variable X is:\",var)\n",
    "print(\"The mean of random variable X is:\",s1)\n",
    "\n",
    "\n",
    "y=numpy.array(y)\n",
    "print(y)\n",
    "plt.plot(x,y)\n",
    "plt.title(\"plot of PMF\")\n",
    "plt.xlabel(\"values of x\")\n",
    "plt.ylabel(\"corresponding values of PMF\")"
   ]
  },
  {
   "cell_type": "markdown",
   "metadata": {},
   "source": [
    "## The distribution it follows is exponential distribution"
   ]
  },
  {
   "cell_type": "code",
   "execution_count": null,
   "metadata": {},
   "outputs": [],
   "source": []
  }
 ],
 "metadata": {
  "kernelspec": {
   "display_name": "Python 3",
   "language": "python",
   "name": "python3"
  },
  "language_info": {
   "codemirror_mode": {
    "name": "ipython",
    "version": 3
   },
   "file_extension": ".py",
   "mimetype": "text/x-python",
   "name": "python",
   "nbconvert_exporter": "python",
   "pygments_lexer": "ipython3",
   "version": "3.8.3"
  }
 },
 "nbformat": 4,
 "nbformat_minor": 4
}
