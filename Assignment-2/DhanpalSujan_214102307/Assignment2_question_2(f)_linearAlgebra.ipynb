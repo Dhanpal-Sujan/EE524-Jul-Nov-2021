{
 "cells": [
  {
   "cell_type": "code",
   "execution_count": null,
   "metadata": {},
   "outputs": [],
   "source": [
    "import pandas\n",
    "import numpy as np\n",
    "import matplotlib.pyplot as plt\n",
    "import math"
   ]
  },
  {
   "cell_type": "code",
   "execution_count": null,
   "metadata": {},
   "outputs": [],
   "source": [
    "data=pandas.read_csv(\"C:\\Machine_learning_lab\\\\Iris.csv\") # it reads the Iris file as matrix"
   ]
  },
  {
   "cell_type": "code",
   "execution_count": null,
   "metadata": {},
   "outputs": [],
   "source": [
    "data.head()\n"
   ]
  },
  {
   "cell_type": "code",
   "execution_count": null,
   "metadata": {},
   "outputs": [],
   "source": [
    "SepalLengthCm = [] #it will strore the column of SepalLengthCm as vector\n",
    "for i in np.arange(len(data['SepalLengthCm'])):\n",
    "    SepalLengthCm.append(data['SepalLengthCm'][i])\n",
    "SepalLengthCm = np.array(SepalLengthCm)\n",
    "\n",
    "SepalWidthCm = [] #it will strore the column of SepalWidthCm as vector\n",
    "for i in np.arange(len(data['SepalWidthCm'])):\n",
    "    SepalWidthCm.append(data['SepalWidthCm'][i])\n",
    "SepalWidthCm = np.array(SepalWidthCm)\n",
    "\n",
    "PetalLengthCm = [] #it will strore the column of PetalLengthCm as vector\n",
    "for i in np.arange(len(data['PetalLengthCm'])):\n",
    "    PetalLengthCm.append(data['PetalLengthCm'][i])\n",
    "PetalLengthCm = np.array(PetalLengthCm)\n",
    "\n",
    "PetalWidthCm = [] #it will strore the column of PetalWidthCm as vector\n",
    "for i in np.arange(len(data['PetalWidthCm'])):\n",
    "    PetalWidthCm.append(data['PetalWidthCm'][i])\n",
    "PetalWidthCm = np.array(PetalWidthCm)\n"
   ]
  },
  {
   "cell_type": "code",
   "execution_count": 62,
   "metadata": {},
   "outputs": [],
   "source": [
    "t = np.cov((data['SepalLengthCm'],data['SepalWidthCm'],data['PetalWidthCm'],data['PetalWidthCm'])) # it computes the covariance matrix and stores in t"
   ]
  },
  {
   "cell_type": "code",
   "execution_count": 63,
   "metadata": {},
   "outputs": [
    {
     "data": {
      "text/plain": [
       "array([[ 0.68569351, -0.03926846,  0.5169038 ,  0.5169038 ],\n",
       "       [-0.03926846,  0.18800403, -0.11798121, -0.11798121],\n",
       "       [ 0.5169038 , -0.11798121,  0.58241432,  0.58241432],\n",
       "       [ 0.5169038 , -0.11798121,  0.58241432,  0.58241432]])"
      ]
     },
     "execution_count": 63,
     "metadata": {},
     "output_type": "execute_result"
    }
   ],
   "source": [
    "t"
   ]
  },
  {
   "cell_type": "code",
   "execution_count": 65,
   "metadata": {},
   "outputs": [
    {
     "name": "stdout",
     "output_type": "stream",
     "text": [
      "[1.71098118e+00 2.29983738e-01 9.75612592e-02 1.18842125e-34]\n",
      "[[ 5.80043561e-01 -5.84857860e-01  5.67001545e-01  7.98539020e-18]\n",
      " [-1.03475277e-01 -7.43325008e-01 -6.60878808e-01 -5.38342515e-17]\n",
      " [ 5.71332799e-01  2.29574842e-01 -3.47669706e-01 -7.07106781e-01]\n",
      " [ 5.71332799e-01  2.29574842e-01 -3.47669706e-01  7.07106781e-01]]\n"
     ]
    }
   ],
   "source": [
    "eigval,eigvec=np.linalg.eig(t)\n",
    "print(eigval)\n",
    "print(eigvec)"
   ]
  },
  {
   "cell_type": "code",
   "execution_count": 71,
   "metadata": {},
   "outputs": [
    {
     "name": "stdout",
     "output_type": "stream",
     "text": [
      "eigen values in desending order is:\n",
      "[1.71098118e+00 2.29983738e-01 9.75612592e-02 1.18842125e-34]\n"
     ]
    }
   ],
   "source": [
    "eigval[::-1].sort() #print the values in desending order\n",
    "print(\"eigen values in desending order is:\")\n",
    "print(eigval)"
   ]
  },
  {
   "cell_type": "code",
   "execution_count": null,
   "metadata": {},
   "outputs": [],
   "source": []
  }
 ],
 "metadata": {
  "kernelspec": {
   "display_name": "Python 3",
   "language": "python",
   "name": "python3"
  },
  "language_info": {
   "codemirror_mode": {
    "name": "ipython",
    "version": 3
   },
   "file_extension": ".py",
   "mimetype": "text/x-python",
   "name": "python",
   "nbconvert_exporter": "python",
   "pygments_lexer": "ipython3",
   "version": "3.8.3"
  }
 },
 "nbformat": 4,
 "nbformat_minor": 4
}
