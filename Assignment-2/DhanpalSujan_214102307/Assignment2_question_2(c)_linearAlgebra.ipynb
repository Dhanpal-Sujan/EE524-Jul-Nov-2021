{
 "cells": [
  {
   "cell_type": "code",
   "execution_count": null,
   "metadata": {},
   "outputs": [],
   "source": [
    "# It is asked to calculate gardients of quadratic points and compute stationary points of (a)\n",
    "\n",
    "# 1.mat1=numpy.array([[0.5,0], [0,0.5]]), gardient= x1 i+ x2 j, statinary point(x1,x2)=(0,0)\n",
    "# 2.mat2=numpy.array([[1,0], [0,1]]), gardient= 2*x1 i+ 2*x2 j, statinary point(x1,x2)=(0,0)\n",
    "# 3.mat3=numpy.array([[4,0], [0,4]]), gardient= 8*x1 i+ 8*x2 j, statinary point(x1,x2)=(0,0)\n",
    "# 4.mat4=numpy.array([[9,0], [0,1]]), gardient= 18*x1 i+ 2*x2 j, statinary point(x1,x2)=(0,0)\n",
    "# 5.mat5=numpy.array([[1,0], [0,9]]), gardient= 2*x1 i+ 18*x2 j, statinary point(x1,x2)=(0,0)\n",
    "# 6.mat6=numpy.array([[9,5], [5,4]]), gardient= (18*x1 + 10*x2)i + (8*x2 + 10*x1)j, statinary point(x1,x2)=(0,0)\n",
    "# 7.mat7=numpy.array([[1,-1], [-1,1]]), gardient= (2*x1-2*x2)i + (2*x2 - 2*x1)j, statinary point: x1=x2\n",
    "# 8.mat8=numpy.array([[1,-0.5], [-0.5,1]]), gardient= (2*x1 - x2)i + (-x2 - x1)j, statinary point(x1,x2)=(0,0)\n",
    "# 9.mat9=numpy.array([[1,1], [1,1]]), gardient=(2*x1+2*x2)i + (2*x2 + 2*x1)j, statinary point: x1=x2\n",
    "# 10.mat10=numpy.array([[1,0.5], [0.5,1]]), gardient=(2*x1+x2)i + (2*x2 + x1)j, statinary point(x1,x2)=(0,0)\n"
   ]
  },
  {
   "cell_type": "markdown",
   "metadata": {},
   "source": [
    "##### It is asked to calculate gardients of quadratic points and compute stationary points of (a)\n",
    "\n",
    "# 1.mat1=numpy.array([[0.5,0], [0,0.5]]), gardient= x1 i+ x2 j, statinary point(x1,x2)=(0,0)\n",
    "# 2.mat2=numpy.array([[1,0], [0,1]]), gardient= 2*x1 i+ 2*x2 j, statinary point(x1,x2)=(0,0)\n",
    "# 3.mat3=numpy.array([[4,0], [0,4]]), gardient= 8*x1 i+ 8*x2 j, statinary point(x1,x2)=(0,0)\n",
    "# 4.mat4=numpy.array([[9,0], [0,1]]), gardient= 18*x1 i+ 2*x2 j, statinary point(x1,x2)=(0,0)\n",
    "# 5.mat5=numpy.array([[1,0], [0,9]]), gardient= 2*x1 i+ 18*x2 j, statinary point(x1,x2)=(0,0)\n",
    "# 6.mat6=numpy.array([[9,5], [5,4]]), gardient= (18*x1 + 10*x2)i + (8*x2 + 10*x1)j, statinary point(x1,x2)=(0,0)\n",
    "# 7.mat7=numpy.array([[1,-1], [-1,1]]), gardient= (2*x1-2*x2)i + (2*x2 - 2*x1)j, statinary point: x1=x2\n",
    "# 8.mat8=numpy.array([[1,-0.5], [-0.5,1]]), gardient= (2*x1 - x2)i + (-x2 - x1)j, statinary point(x1,x2)=(0,0)\n",
    "# 9.mat9=numpy.array([[1,1], [1,1]]), gardient=(2*x1+2*x2)i + (2*x2 + 2*x1)j, statinary point: x1=x2\n",
    "# 10.mat10=numpy.array([[1,0.5], [0.5,1]]), gardient=(2*x1+x2)i + (2*x2 + x1)j, statinary point(x1,x2)=(0,0)\n"
   ]
  },
  {
   "cell_type": "code",
   "execution_count": null,
   "metadata": {},
   "outputs": [],
   "source": []
  }
 ],
 "metadata": {
  "kernelspec": {
   "display_name": "Python 3",
   "language": "python",
   "name": "python3"
  },
  "language_info": {
   "codemirror_mode": {
    "name": "ipython",
    "version": 3
   },
   "file_extension": ".py",
   "mimetype": "text/x-python",
   "name": "python",
   "nbconvert_exporter": "python",
   "pygments_lexer": "ipython3",
   "version": "3.8.3"
  }
 },
 "nbformat": 4,
 "nbformat_minor": 4
}
